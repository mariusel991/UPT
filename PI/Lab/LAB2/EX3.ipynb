{
  "nbformat": 4,
  "nbformat_minor": 0,
  "metadata": {
    "colab": {
      "provenance": [],
      "authorship_tag": "ABX9TyNROUoCgwBgxyVYdyMYS13E",
      "include_colab_link": true
    },
    "kernelspec": {
      "name": "python3",
      "display_name": "Python 3"
    },
    "language_info": {
      "name": "python"
    }
  },
  "cells": [
    {
      "cell_type": "markdown",
      "metadata": {
        "id": "view-in-github",
        "colab_type": "text"
      },
      "source": [
        "<a href=\"https://colab.research.google.com/github/mariusel991/UPT/blob/main/PI/Lab/Lab3.ipynb\" target=\"_parent\"><img src=\"https://colab.research.google.com/assets/colab-badge.svg\" alt=\"Open In Colab\"/></a>"
      ]
    },
    {
      "cell_type": "code",
      "execution_count": 69,
      "metadata": {
        "id": "7ZgVpiwL_PWG"
      },
      "outputs": [],
      "source": [
        "import torch\n",
        "import matplotlib.pyplot as plt\n",
        "import numpy as np\n",
        "\n",
        "torch.manual_seed(42)\n",
        "np.random.seed(42)"
      ]
    },
    {
      "cell_type": "code",
      "source": [
        "def synthetic_data(w, b, num_examples):\n",
        "    \"\"\"Generate y = Xw + b + noise.\"\"\"\n",
        "    #X = torch.normal(-3, 3, (num_examples, len(w)))\n",
        "    X =  torch.arange(-3,3,0.1).reshape(60,1)\n",
        "\n",
        "    y = X @ w + b\n",
        "    y += torch.normal(0, 0.01, y.shape)\n",
        "    return X, y.reshape(-1, 1)\n",
        "\n",
        "true_w = torch.tensor([1.0])\n",
        "true_b = -1.0\n",
        "features, labels = synthetic_data(true_w, true_b, 60)"
      ],
      "metadata": {
        "id": "utktBWBfAQhq"
      },
      "execution_count": 82,
      "outputs": []
    },
    {
      "cell_type": "code",
      "source": [
        "def load_array(data_arrays, batch_size, is_train=True):\n",
        "    \"\"\"Construct a PyTorch data iterator.\"\"\"\n",
        "    dataset = torch.utils.data.TensorDataset(*data_arrays)\n",
        "    return torch.utils.data.DataLoader(dataset, batch_size, shuffle=is_train)"
      ],
      "metadata": {
        "id": "b8zP_h0GXUvO"
      },
      "execution_count": 83,
      "outputs": []
    },
    {
      "cell_type": "code",
      "source": [
        "batch_size = 10\n",
        "data_iter = load_array((features, labels), batch_size)\n",
        "\n",
        "print('Features:', features[0], '\\nLabel:', labels[0])"
      ],
      "metadata": {
        "colab": {
          "base_uri": "https://localhost:8080/"
        },
        "id": "K4rQiAIrCz_Q",
        "outputId": "46d5f172-1115-4f44-fcf0-e4999552f003"
      },
      "execution_count": 84,
      "outputs": [
        {
          "output_type": "stream",
          "name": "stdout",
          "text": [
            "Features: tensor([-3.]) \n",
            "Label: tensor([-3.9888])\n"
          ]
        }
      ]
    },
    {
      "cell_type": "code",
      "source": [
        "from torch import nn\n",
        "\n",
        "net = nn.Sequential(nn.Linear(1, 1))\n",
        "\n",
        "net[0].weight.data.normal_(1)\n",
        "net[0].bias.data.fill_(1)\n",
        "\n",
        "loss = nn.MSELoss()\n",
        "optimizer = torch.optim.SGD(net.parameters(), lr=0.05)"
      ],
      "metadata": {
        "id": "Qskvg7kUDfje"
      },
      "execution_count": 85,
      "outputs": []
    },
    {
      "cell_type": "code",
      "source": [
        "plt.scatter(features[:, 0].detach().numpy(), labels.detach().numpy(), s=1)\n",
        "plt.show()"
      ],
      "metadata": {
        "colab": {
          "base_uri": "https://localhost:8080/",
          "height": 430
        },
        "id": "owVKEM4FIpqF",
        "outputId": "0246a4dd-e778-4864-d6a1-fd393a65df75"
      },
      "execution_count": 86,
      "outputs": [
        {
          "output_type": "display_data",
          "data": {
            "text/plain": [
              "<Figure size 640x480 with 1 Axes>"
            ],
            "image/png": "[encoded data removed]"
          },
          "metadata": {}
        }
      ]
    },
    {
      "cell_type": "code",
      "source": [
        "num_epochs = 25\n",
        "for epoch in range(num_epochs):\n",
        "    for X, y in data_iter:\n",
        "        l = loss(net(X), y)\n",
        "        #optimizer.zero_grad()\n",
        "        w = net[0].weight.data\n",
        "        b = net[0].bias.data\n",
        "\n",
        "        l.backward()\n",
        "        #optimizer.step()\n",
        "\n",
        "        vWL = net[0].weight.grad.data\n",
        "        vBL = net[0].bias.grad.data\n",
        "\n",
        "        net[0].weight.data -= 0.05 * net[0].weight.grad.data\n",
        "        net[0].bias.data -= 0.05 * net[0].bias.grad.data\n",
        "\n",
        "        net[0].weight.grad.data.zero_()\n",
        "        net[0].bias.grad.data.zero_()\n",
        "    l = loss(net(features), labels)\n",
        "    print(f'Epoch {epoch + 1}, Loss {l:f}')\n",
        "\n",
        "\n",
        "print()\n",
        "w = net[0].weight.data\n",
        "print('Error in estimating w:', true_w - w.reshape(true_w.shape))\n",
        "b = net[0].bias.data\n",
        "print('Error in estimating b:', true_b - b)\n",
        "\n",
        "print('Actual w:', true_w)\n",
        "print('Predicted w:',w)\n",
        "print('Actual b:',true_b)\n",
        "print('Predicetd b:',b)"
      ],
      "metadata": {
        "colab": {
          "base_uri": "https://localhost:8080/"
        },
        "id": "_KuwmItOJG6c",
        "outputId": "d7b35db8-804f-4299-e789-73f298547b3e"
      },
      "execution_count": 87,
      "outputs": [
        {
          "output_type": "stream",
          "name": "stdout",
          "text": [
            "Epoch 1, Loss 1.103267\n",
            "Epoch 2, Loss 0.305285\n",
            "Epoch 3, Loss 0.085478\n",
            "Epoch 4, Loss 0.024021\n",
            "Epoch 5, Loss 0.006680\n",
            "Epoch 6, Loss 0.001897\n",
            "Epoch 7, Loss 0.000590\n",
            "Epoch 8, Loss 0.000211\n",
            "Epoch 9, Loss 0.000111\n",
            "Epoch 10, Loss 0.000082\n",
            "Epoch 11, Loss 0.000074\n",
            "Epoch 12, Loss 0.000071\n",
            "Epoch 13, Loss 0.000071\n",
            "Epoch 14, Loss 0.000070\n",
            "Epoch 15, Loss 0.000070\n",
            "Epoch 16, Loss 0.000070\n",
            "Epoch 17, Loss 0.000070\n",
            "Epoch 18, Loss 0.000070\n",
            "Epoch 19, Loss 0.000070\n",
            "Epoch 20, Loss 0.000070\n",
            "Epoch 21, Loss 0.000070\n",
            "Epoch 22, Loss 0.000070\n",
            "Epoch 23, Loss 0.000070\n",
            "Epoch 24, Loss 0.000070\n",
            "Epoch 25, Loss 0.000070\n",
            "\n",
            "Error in estimating w: tensor([0.0013])\n",
            "Error in estimating b: tensor([0.0008])\n",
            "Actual w: tensor([1.])\n",
            "Predicted w: tensor([[0.9987]])\n",
            "Actual b: -1.0\n",
            "Predicetd b: tensor([-1.0008])\n"
          ]
        }
      ]
    },
    {
      "cell_type": "code",
      "source": [],
      "metadata": {
        "id": "Tof5C-kTKEwr"
      },
      "execution_count": 87,
      "outputs": []
    }
  ]
}
